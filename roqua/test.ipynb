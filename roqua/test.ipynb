{
 "cells": [
  {
   "cell_type": "markdown",
   "id": "0b79b09b-e6bd-4d28-bdd7-3580a3e066c2",
   "metadata": {},
   "source": [
    "***ROQuA:*** A RAG-based Opinion QA\n",
    "=================================\n"
   ]
  },
  {
   "cell_type": "markdown",
   "id": "72d551d0-08bf-4c8d-9568-0d1114c1014b",
   "metadata": {},
   "source": [
    "### Loading models"
   ]
  },
  {
   "cell_type": "code",
   "execution_count": 1,
   "id": "ba93a752-aa87-476c-af7b-49a3cd9b37a7",
   "metadata": {},
   "outputs": [
    {
     "data": {
      "application/vnd.jupyter.widget-view+json": {
       "model_id": "c3ebcb9e7915430fb03fc2d9d07a13c6",
       "version_major": 2,
       "version_minor": 0
      },
      "text/plain": [
       "Loading checkpoint shards:   0%|          | 0/4 [00:00<?, ?it/s]"
      ]
     },
     "metadata": {},
     "output_type": "display_data"
    },
    {
     "name": "stderr",
     "output_type": "stream",
     "text": [
      "Special tokens have been added in the vocabulary, make sure the associated word embeddings are fine-tuned or trained.\n",
      "/root/miniconda3/lib/python3.10/site-packages/torch/_utils.py:831: UserWarning: TypedStorage is deprecated. It will be removed in the future and UntypedStorage will be the only storage class. This should only matter to you if you are using storages directly.  To access UntypedStorage directly, use tensor.untyped_storage() instead of tensor.storage()\n",
      "  return self.fget.__get__(instance, owner)()\n"
     ]
    }
   ],
   "source": [
    "from llm import Qwen\n",
    "from douyin.api import DouyinAPI\n",
    "from yelp.api import YelpAPI\n",
    "\n",
    "llm = Qwen()\n",
    "dapi = DouyinAPI(llm)\n",
    "yapi = YelpAPI(llm)"
   ]
  },
  {
   "cell_type": "markdown",
   "id": "67316eaf-0eee-449c-970c-9581e7035803",
   "metadata": {},
   "source": [
    "### Opinion QA in Yelp"
   ]
  },
  {
   "cell_type": "code",
   "execution_count": 3,
   "id": "694cae8a-5aea-443f-899b-cf1863461a3f",
   "metadata": {},
   "outputs": [
    {
     "name": "stdout",
     "output_type": "stream",
     "text": [
      "Customers mentioned fountain in relation to the city's location, highlighting its great position as a positive aspect despite other issues.\n"
     ]
    }
   ],
   "source": [
    "query = \"\"\"\n",
    "Why did customers mention fountain in this city?\n",
    "\"\"\"\n",
    "opinion = yapi.run2(query)\n",
    "print(opinion)"
   ]
  },
  {
   "cell_type": "markdown",
   "id": "42b85604-be8a-40fc-9996-ec8989d65baa",
   "metadata": {},
   "source": [
    "### Opinion QA in Douyin"
   ]
  },
  {
   "cell_type": "code",
   "execution_count": 2,
   "id": "8ede95a2-113d-47e6-b010-9c7d13bed3da",
   "metadata": {},
   "outputs": [
    {
     "name": "stderr",
     "output_type": "stream",
     "text": [
      "The attention mask is not set and cannot be inferred from input because pad token is same as eos token.As a consequence, you may observe unexpected behavior. Please pass your input's `attention_mask` to obtain reliable results.\n"
     ]
    },
    {
     "name": "stdout",
     "output_type": "stream",
     "text": [
      "['孩子']\n",
      "育儿/家庭教育\n",
      "(content:孩子)\n",
      "Searched reviews: 200\n",
      "Rank choice: 139\n",
      "Clustering...\n",
      "0: 关于'孩子'的讨论主要集中在带孩子爬山作为历练、游玩以及对孩子的挑战性活动上。\n",
      "1: 关于'孩子'的讨论主要涉及育儿辛苦、孩子活动、孕期不适及对孩子教育与成长的关注。\n",
      "2: 关于'孩子'的讨论主要集中在对带孩子参与户外活动的顾虑、不适及对孩子可能造成的劳累和受罪的感受上。\n",
      "3: 讨论了对孩子活动的选择、对活动的体验感受、育儿观念及方法等方面。\n",
      "4: 关于'孩子'的话题包括带孩子出游的体验、教育意义、家务劳动、适应能力培养等。\n",
      "5: 讨论涉及锻炼、亲近自然、孩子体验与感受、家长陪伴等。\n",
      "\n",
      "===进一步总结===\n",
      "关于'孩子'的讨论聚焦于活动选择、育儿经验、教育意义及家庭互动。\n"
     ]
    }
   ],
   "source": [
    "query = \"\"\"\n",
    "关于'孩子'，大家在谈论的什么话题？\n",
    "\"\"\"\n",
    "opinion = dapi.run(query)\n",
    "print(opinion)"
   ]
  },
  {
   "cell_type": "code",
   "execution_count": null,
   "id": "b66a1e41-4fbc-4343-942b-1642beca57b7",
   "metadata": {},
   "outputs": [],
   "source": []
  }
 ],
 "metadata": {
  "kernelspec": {
   "display_name": "Python 3 (ipykernel)",
   "language": "python",
   "name": "python3"
  },
  "language_info": {
   "codemirror_mode": {
    "name": "ipython",
    "version": 3
   },
   "file_extension": ".py",
   "mimetype": "text/x-python",
   "name": "python",
   "nbconvert_exporter": "python",
   "pygments_lexer": "ipython3",
   "version": "3.10.8"
  }
 },
 "nbformat": 4,
 "nbformat_minor": 5
}
